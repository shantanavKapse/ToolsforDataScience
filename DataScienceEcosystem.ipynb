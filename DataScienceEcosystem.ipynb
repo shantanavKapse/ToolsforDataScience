{
 "cells": [
  {
   "cell_type": "markdown",
   "id": "e146945a",
   "metadata": {},
   "source": [
    "# Data Science Tools and Ecosystem"
   ]
  },
  {
   "cell_type": "markdown",
   "id": "5792d3f0",
   "metadata": {},
   "source": [
    "In this notebook, Data Science Tools and Ecosystem are summarized."
   ]
  },
  {
   "cell_type": "markdown",
   "id": "3c6b800c",
   "metadata": {},
   "source": [
    "Some of the popular languages that Data Scientists use are:\n",
    "    \n",
    "1. Python\n",
    "2. R\n",
    "3. Julia\n",
    "4. Java"
   ]
  },
  {
   "cell_type": "markdown",
   "id": "d9c9c931",
   "metadata": {},
   "source": [
    "Some of the commonly used libraries used by Data Scientists include:\n",
    "\n",
    "1. Numpy\n",
    "2. Pandas\n",
    "3. Tensorflow\n",
    "4. Keras\n",
    "5. Scipy\n",
    "6. Matplotlib"
   ]
  },
  {
   "cell_type": "markdown",
   "id": "3ad139cd",
   "metadata": {},
   "source": [
    "| Data Science Tools |\n",
    "|--------------------|\n",
    "| Apache Spark |\n",
    "| Hadoop |\n",
    "| Tableau |\n",
    "| Power BI |\n",
    "| MATLAB |\n",
    "| KNIME |"
   ]
  },
  {
   "cell_type": "markdown",
   "id": "6428f032",
   "metadata": {},
   "source": [
    "Below are a few examples of evaluating arithmetic expressions in Python"
   ]
  },
  {
   "cell_type": "code",
   "execution_count": 3,
   "id": "663ad9c2",
   "metadata": {},
   "outputs": [
    {
     "data": {
      "text/plain": [
       "17"
      ]
     },
     "execution_count": 3,
     "metadata": {},
     "output_type": "execute_result"
    }
   ],
   "source": [
    "# This a simple arithmetic expression to mutiply then add integers\n",
    "(3*4)+5"
   ]
  },
  {
   "cell_type": "code",
   "execution_count": 4,
   "id": "72c933e0",
   "metadata": {},
   "outputs": [
    {
     "data": {
      "text/plain": [
       "3.3333333333333335"
      ]
     },
     "execution_count": 4,
     "metadata": {},
     "output_type": "execute_result"
    }
   ],
   "source": [
    "# This will convert 200 minutes to hours by diving by 60\n",
    "mins = 200\n",
    "hrs = 200/60\n",
    "hrs"
   ]
  },
  {
   "cell_type": "markdown",
   "id": "965f7b18",
   "metadata": {},
   "source": [
    "**Objectives**\n",
    "\n",
    "- To list some of the popular languages used in data science\n",
    "- To list some of the popular libraries in those languages\n",
    "- List popular tools used by data scientists\n",
    "- Perform arithmetic operations in python"
   ]
  },
  {
   "cell_type": "markdown",
   "id": "8d0209bb",
   "metadata": {},
   "source": [
    "## Author\n",
    "Shantanav Kapse"
   ]
  }
 ],
 "metadata": {
  "kernelspec": {
   "display_name": "Python 3 (ipykernel)",
   "language": "python",
   "name": "python3"
  },
  "language_info": {
   "codemirror_mode": {
    "name": "ipython",
    "version": 3
   },
   "file_extension": ".py",
   "mimetype": "text/x-python",
   "name": "python",
   "nbconvert_exporter": "python",
   "pygments_lexer": "ipython3",
   "version": "3.9.6"
  }
 },
 "nbformat": 4,
 "nbformat_minor": 5
}
